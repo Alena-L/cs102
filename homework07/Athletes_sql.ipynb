{
 "cells": [
  {
   "cell_type": "code",
   "execution_count": 1,
   "metadata": {},
   "outputs": [],
   "source": [
    "import psycopg2"
   ]
  },
  {
   "cell_type": "code",
   "execution_count": 2,
   "metadata": {},
   "outputs": [],
   "source": [
    "import csv"
   ]
  },
  {
   "cell_type": "code",
   "execution_count": 3,
   "metadata": {},
   "outputs": [],
   "source": [
    "import pandas as pd"
   ]
  },
  {
   "cell_type": "code",
   "execution_count": 4,
   "metadata": {},
   "outputs": [],
   "source": [
    "import numpy as np"
   ]
  },
  {
   "cell_type": "code",
   "execution_count": 5,
   "metadata": {},
   "outputs": [],
   "source": [
    "from tabulate import tabulate"
   ]
  },
  {
   "cell_type": "code",
   "execution_count": 6,
   "metadata": {},
   "outputs": [],
   "source": [
    "conn = psycopg2.connect(\"host=localhost port=5432 dbname=events user=postgres password=seqret\")\n",
    "cursor = conn.cursor()"
   ]
  },
  {
   "cell_type": "markdown",
   "metadata": {},
   "source": [
    "### Preparing the table "
   ]
  },
  {
   "cell_type": "code",
   "execution_count": 6,
   "metadata": {},
   "outputs": [],
   "source": [
    "df = pd.read_csv('athletes_events.csv')"
   ]
  },
  {
   "cell_type": "code",
   "execution_count": 7,
   "metadata": {},
   "outputs": [
    {
     "name": "stdout",
     "output_type": "stream",
     "text": [
      "<class 'pandas.core.frame.DataFrame'>\n",
      "RangeIndex: 271116 entries, 0 to 271115\n",
      "Data columns (total 15 columns):\n",
      " #   Column  Non-Null Count   Dtype  \n",
      "---  ------  --------------   -----  \n",
      " 0   ID      271116 non-null  int64  \n",
      " 1   Name    271116 non-null  object \n",
      " 2   Sex     271116 non-null  object \n",
      " 3   Age     261642 non-null  float64\n",
      " 4   Height  210945 non-null  float64\n",
      " 5   Weight  208241 non-null  float64\n",
      " 6   Team    271116 non-null  object \n",
      " 7   NOC     271116 non-null  object \n",
      " 8   Games   271116 non-null  object \n",
      " 9   Year    271116 non-null  int64  \n",
      " 10  Season  271116 non-null  object \n",
      " 11  City    271116 non-null  object \n",
      " 12  Sport   271116 non-null  object \n",
      " 13  Event   271116 non-null  object \n",
      " 14  Medal   39783 non-null   object \n",
      "dtypes: float64(3), int64(2), object(10)\n",
      "memory usage: 31.0+ MB\n"
     ]
    }
   ],
   "source": [
    "df.info()"
   ]
  },
  {
   "cell_type": "code",
   "execution_count": 8,
   "metadata": {},
   "outputs": [],
   "source": [
    "df = df.fillna(0)\n",
    "df['Height'] = df['Height'].astype(\"Int64\")\n",
    "df['Age'] = df['Age'].astype(\"Int64\")"
   ]
  },
  {
   "cell_type": "code",
   "execution_count": 9,
   "metadata": {},
   "outputs": [],
   "source": [
    "df.to_csv('athletes_sql.csv')"
   ]
  },
  {
   "cell_type": "code",
   "execution_count": 10,
   "metadata": {},
   "outputs": [],
   "source": [
    "query = \"\"\"\n",
    "CREATE TABLE athletes_events (\n",
    "    id SERIAL PRIMARY KEY,\n",
    "    athlete_id INTEGER,\n",
    "    name VARCHAR,\n",
    "    sex VARCHAR,\n",
    "    age INTEGER,\n",
    "    height INTEGER,\n",
    "    weight REAL,\n",
    "    team VARCHAR,\n",
    "    noc VARCHAR,\n",
    "    games VARCHAR,\n",
    "    year INTEGER,\n",
    "    season VARCHAR,\n",
    "    city VARCHAR,\n",
    "    sport VARCHAR,\n",
    "    event VARCHAR,\n",
    "    medal VARCHAR\n",
    ")\n",
    "\"\"\""
   ]
  },
  {
   "cell_type": "code",
   "execution_count": 11,
   "metadata": {},
   "outputs": [],
   "source": [
    "cursor.execute(query)\n",
    "conn.commit()"
   ]
  },
  {
   "cell_type": "code",
   "execution_count": 12,
   "metadata": {},
   "outputs": [],
   "source": [
    "with open('athletes_sql.csv', 'r') as file:\n",
    "    reader = csv.reader(file)\n",
    "    # Skip the header row\n",
    "    next(reader)\n",
    "    for ID, row in enumerate(reader):\n",
    "        cursor.execute(\n",
    "            \"INSERT INTO athletes_events VALUES (%s, %s, %s, %s, %s, %s, %s, %s, %s, %s, %s, %s, %s, %s, %s, %s)\",\n",
    "            row\n",
    "        )\n",
    "conn.commit()"
   ]
  },
  {
   "cell_type": "code",
   "execution_count": 7,
   "metadata": {},
   "outputs": [],
   "source": [
    "def fetch_all(cursor):\n",
    "    colnames = [desc[0] for desc in cursor.description]\n",
    "    records = cursor.fetchall()\n",
    "    return [{colname: value for colname, value in zip(colnames, record)} for record in records]"
   ]
  },
  {
   "cell_type": "code",
   "execution_count": 8,
   "metadata": {},
   "outputs": [
    {
     "name": "stdout",
     "output_type": "stream",
     "text": [
      "+------+--------------+--------------------------+-------+-------+----------+----------+----------------+-------+-------------+--------+----------+-----------+---------------+----------------------------------+---------+\n",
      "|   id |   athlete_id | name                     | sex   |   age |   height |   weight | team           | noc   | games       |   year | season   | city      | sport         | event                            | medal   |\n",
      "|------+--------------+--------------------------+-------+-------+----------+----------+----------------+-------+-------------+--------+----------+-----------+---------------+----------------------------------+---------|\n",
      "|    0 |            1 | A Dijiang                | M     |    24 |      180 |       80 | China          | CHN   | 1992 Summer |   1992 | Summer   | Barcelona | Basketball    | Basketball Men's Basketball      | 0       |\n",
      "|    1 |            2 | A Lamusi                 | M     |    23 |      170 |       60 | China          | CHN   | 2012 Summer |   2012 | Summer   | London    | Judo          | Judo Men's Extra-Lightweight     | 0       |\n",
      "|    2 |            3 | Gunnar Nielsen Aaby      | M     |    24 |        0 |        0 | Denmark        | DEN   | 1920 Summer |   1920 | Summer   | Antwerpen | Football      | Football Men's Football          | 0       |\n",
      "|    3 |            4 | Edgar Lindenau Aabye     | M     |    34 |        0 |        0 | Denmark/Sweden | DEN   | 1900 Summer |   1900 | Summer   | Paris     | Tug-Of-War    | Tug-Of-War Men's Tug-Of-War      | Gold    |\n",
      "|    4 |            5 | Christine Jacoba Aaftink | F     |    21 |      185 |       82 | Netherlands    | NED   | 1988 Winter |   1988 | Winter   | Calgary   | Speed Skating | Speed Skating Women's 500 metres | 0       |\n",
      "+------+--------------+--------------------------+-------+-------+----------+----------+----------------+-------+-------------+--------+----------+-----------+---------------+----------------------------------+---------+\n"
     ]
    }
   ],
   "source": [
    "cursor.execute(\n",
    "    \"\"\"\n",
    "    SELECT * FROM athletes_events Limit 5\n",
    "    \n",
    "    \"\"\"\n",
    ")\n",
    "print(tabulate(fetch_all(cursor), \"keys\", \"psql\"))"
   ]
  },
  {
   "cell_type": "markdown",
   "metadata": {},
   "source": [
    "### 1. How old were the youngest male and female participants of the 1996 Olympics?"
   ]
  },
  {
   "cell_type": "code",
   "execution_count": 10,
   "metadata": {},
   "outputs": [
    {
     "name": "stdout",
     "output_type": "stream",
     "text": [
      "+---------+\n",
      "|   min_f |\n",
      "|---------|\n",
      "|      12 |\n",
      "+---------+\n"
     ]
    }
   ],
   "source": [
    "#for females\n",
    "cursor.execute(\n",
    "    \"\"\"\n",
    "    SELECT MIN(Age) AS \"min_f\" FROM athletes_events WHERE Sex = 'F' and Age > 0 and Year = 1996\n",
    "    \n",
    "    \"\"\"\n",
    ")\n",
    "print(tabulate(fetch_all(cursor), \"keys\", \"psql\"))"
   ]
  },
  {
   "cell_type": "code",
   "execution_count": 11,
   "metadata": {},
   "outputs": [
    {
     "name": "stdout",
     "output_type": "stream",
     "text": [
      "+---------+\n",
      "|   min_m |\n",
      "|---------|\n",
      "|      14 |\n",
      "+---------+\n"
     ]
    }
   ],
   "source": [
    "#for males\n",
    "cursor.execute(\n",
    "    \"\"\"\n",
    "    SELECT MIN(Age) AS \"min_m\" FROM athletes_events WHERE Sex = 'M' and Age > 0 and Year = 1996\n",
    "    \n",
    "    \"\"\"\n",
    ")\n",
    "print(tabulate(fetch_all(cursor), \"keys\", \"psql\"))"
   ]
  },
  {
   "cell_type": "markdown",
   "metadata": {},
   "source": [
    "### 2. What was the percentage of male gymnasts among all the male participants of the 2000 Olympics? Round the answer to the first decimal."
   ]
  },
  {
   "cell_type": "code",
   "execution_count": 9,
   "metadata": {},
   "outputs": [
    {
     "name": "stdout",
     "output_type": "stream",
     "text": [
      "+--------------+\n",
      "|   percentage |\n",
      "|--------------|\n",
      "|          1.5 |\n",
      "+--------------+\n"
     ]
    }
   ],
   "source": [
    "cursor.execute(\n",
    "    '''\n",
    "    SELECT ROUND((COUNT(DISTINCT(athlete_id)) / (SELECT COUNT(DISTINCT(athlete_id))\n",
    "    FROM athletes_events WHERE sex = 'M' and year = 2000)::decimal) * 100, 1) AS \"percentage\"\n",
    "        FROM athletes_events\n",
    "        WHERE sex = 'M' and year = 2000 and sport = 'Gymnastics'\n",
    "    '''\n",
    ")\n",
    "print(tabulate(fetch_all(cursor), \"keys\", \"psql\"))"
   ]
  },
  {
   "cell_type": "markdown",
   "metadata": {},
   "source": [
    "### 3. What are the mean and standard deviation of height for female basketball players participated in the 2000 Olympics? Round the answer to the first decimal."
   ]
  },
  {
   "cell_type": "code",
   "execution_count": 8,
   "metadata": {},
   "outputs": [
    {
     "name": "stdout",
     "output_type": "stream",
     "text": [
      "+--------------+--------------+\n",
      "|   AVG_height |   STD_height |\n",
      "|--------------+--------------|\n",
      "|        182.4 |          9.1 |\n",
      "+--------------+--------------+\n"
     ]
    }
   ],
   "source": [
    "cursor.execute(\n",
    "    '''\n",
    "    SELECT ROUND((AVG(temp.height)::numeric), 1) AS \"AVG_height\",\n",
    "    ROUND((STDDEV(temp.height)::numeric), 1) AS \"STD_height\"\n",
    "    FROM (SELECT DISTINCT athlete_id, height FROM athletes_events\n",
    "    WHERE sex = 'F' and year = 2000 and height > 0 and sport = 'Basketball') AS temp\n",
    "    '''\n",
    ")\n",
    "\n",
    "print(tabulate(fetch_all(cursor), \"keys\", \"psql\"))"
   ]
  },
  {
   "cell_type": "markdown",
   "metadata": {},
   "source": [
    "### 4. Find a sportsperson participated in the 2002 Olympics, with the highest weight among other participants of the same Olympics. What sport did he or she do?"
   ]
  },
  {
   "cell_type": "code",
   "execution_count": 12,
   "metadata": {},
   "outputs": [
    {
     "name": "stdout",
     "output_type": "stream",
     "text": [
      "+-----------+\n",
      "| sport     |\n",
      "|-----------|\n",
      "| Bobsleigh |\n",
      "+-----------+\n"
     ]
    }
   ],
   "source": [
    "cursor.execute(\n",
    "    \"\"\"\n",
    "    SELECT sport FROM athletes_events\n",
    "    WHERE weight=(SELECT MAX(weight) FROM athletes_events WHERE year = 2002) and year = 2002\n",
    "    \"\"\"\n",
    ")\n",
    "print(tabulate(fetch_all(cursor), \"keys\", \"psql\"))"
   ]
  },
  {
   "cell_type": "markdown",
   "metadata": {},
   "source": [
    "### 5. How many times did Pawe Abratkiewicz participate in the Olympics held in different years?"
   ]
  },
  {
   "cell_type": "code",
   "execution_count": 13,
   "metadata": {},
   "outputs": [
    {
     "name": "stdout",
     "output_type": "stream",
     "text": [
      "+---------+\n",
      "|   count |\n",
      "|---------|\n",
      "|       3 |\n",
      "+---------+\n"
     ]
    }
   ],
   "source": [
    "cursor.execute(\n",
    "    \"\"\"\n",
    "    SELECT COUNT(DISTINCT temp.games)\n",
    "    FROM (SELECT DISTINCT name, games FROM athletes_events\n",
    "    WHERE name = 'Pawe Abratkiewicz') AS temp\n",
    "    \"\"\"\n",
    ")\n",
    "print(tabulate(fetch_all(cursor), \"keys\", \"psql\"))"
   ]
  },
  {
   "cell_type": "markdown",
   "metadata": {},
   "source": [
    "### 6. How many silver medals in tennis did Australia win at the 2000 Olympics?"
   ]
  },
  {
   "cell_type": "code",
   "execution_count": 14,
   "metadata": {},
   "outputs": [
    {
     "name": "stdout",
     "output_type": "stream",
     "text": [
      "+---------+\n",
      "|   count |\n",
      "|---------|\n",
      "|       2 |\n",
      "+---------+\n"
     ]
    }
   ],
   "source": [
    "cursor.execute(\n",
    "    \"\"\"\n",
    "    SELECT COUNT (*) FROM athletes_events\n",
    "    WHERE team = 'Australia' and year = 2000 and sport = 'Tennis' and medal ='Silver'\n",
    "    \"\"\"\n",
    ")\n",
    "print(tabulate(fetch_all(cursor), \"keys\", \"psql\"))"
   ]
  },
  {
   "cell_type": "markdown",
   "metadata": {},
   "source": [
    "### 7. Is it true that Switzerland won fewer medals than Serbia at the 2016 Olympics?"
   ]
  },
  {
   "cell_type": "code",
   "execution_count": 10,
   "metadata": {},
   "outputs": [
    {
     "name": "stdout",
     "output_type": "stream",
     "text": [
      "+----------+\n",
      "| answer   |\n",
      "|----------|\n",
      "| True     |\n",
      "+----------+\n"
     ]
    }
   ],
   "source": [
    "cursor.execute(\n",
    "    \"\"\"\n",
    "    SELECT(SELECT COUNT(*)\n",
    "    FROM athletes_events\n",
    "    WHERE year = 2016 and team = 'Serbia' and medal != '0') >\n",
    "    (SELECT COUNT(*)\n",
    "    FROM athletes_events\n",
    "    WHERE year = 2016 and team = 'Switzerland' and medal != '0') AS answer\n",
    "    \"\"\"\n",
    ")\n",
    "print(tabulate(fetch_all(cursor), \"keys\", \"psql\"))"
   ]
  },
  {
   "cell_type": "markdown",
   "metadata": {},
   "source": [
    "### 8. What age category did the fewest and the most participants of the 2014 Olympics belong to?"
   ]
  },
  {
   "cell_type": "code",
   "execution_count": 15,
   "metadata": {},
   "outputs": [
    {
     "name": "stdout",
     "output_type": "stream",
     "text": [
      "+----------------+---------+\n",
      "|   age_category |   count |\n",
      "|----------------+---------|\n",
      "|             15 |    1193 |\n",
      "|             25 |    1397 |\n",
      "|             35 |     150 |\n",
      "|             45 |       5 |\n",
      "+----------------+---------+\n"
     ]
    }
   ],
   "source": [
    "cursor.execute(\n",
    "    \"\"\"\n",
    "    SELECT\n",
    "        CASE\n",
    "            WHEN 15 <= age AND 25 > age THEN 15\n",
    "            WHEN 25 <= age AND 35 > age THEN 25\n",
    "            WHEN 35 <= age AND 45 > age THEN 35\n",
    "            WHEN 45 <= age AND 55 >= age THEN 45\n",
    "        END AS age_category,\n",
    "    COUNT (DISTINCT athlete_id)\n",
    "    FROM athletes_events\n",
    "    WHERE year = 2014\n",
    "    GROUP BY age_category\n",
    "\"\"\"\n",
    ")\n",
    "print(tabulate(fetch_all(cursor), \"keys\", \"psql\"))"
   ]
  },
  {
   "cell_type": "markdown",
   "metadata": {},
   "source": [
    "[45-55] and [25-35) correspondingly"
   ]
  },
  {
   "cell_type": "markdown",
   "metadata": {},
   "source": [
    "### 9. Is it true that there were Summer Olympics held in Lake Placid? Is it true that there were Winter Olympics held in Sankt Moritz?"
   ]
  },
  {
   "cell_type": "code",
   "execution_count": 8,
   "metadata": {},
   "outputs": [
    {
     "name": "stdout",
     "output_type": "stream",
     "text": [
      "+---------------+----------------+\n",
      "| lake_placid   | sankt_moritz   |\n",
      "|---------------+----------------|\n",
      "| False         | True           |\n",
      "+---------------+----------------+\n"
     ]
    }
   ],
   "source": [
    "cursor.execute(\n",
    "    \"\"\"\n",
    "    SELECT (SELECT COUNT(*) > 0\n",
    "    FROM athletes_events\n",
    "    WHERE city = 'Lake Placid' and season = 'Summer') as Lake_Placid,\n",
    "    (SELECT COUNT(*) > 0 FROM athletes_events\n",
    "    WHERE city = 'Sankt Moritz' and season = 'Winter') as Sankt_Moritz\n",
    "    \"\"\"\n",
    ")\n",
    "print(tabulate(fetch_all(cursor), \"keys\", \"psql\"))"
   ]
  },
  {
   "cell_type": "markdown",
   "metadata": {},
   "source": [
    "### 10. What is the absolute difference between the number of unique sports at the 1996 Olympics and 2016 Olympics?"
   ]
  },
  {
   "cell_type": "code",
   "execution_count": 10,
   "metadata": {},
   "outputs": [
    {
     "name": "stdout",
     "output_type": "stream",
     "text": [
      "+--------------+\n",
      "|   difference |\n",
      "|--------------|\n",
      "|            3 |\n",
      "+--------------+\n"
     ]
    }
   ],
   "source": [
    "cursor.execute(\n",
    "    \"\"\"\n",
    "    SELECT ABS(\n",
    "    (SELECT COUNT (DISTINCT sport) FROM athletes_events where year = 1996)-\n",
    "    (SELECT COUNT (DISTINCT sport) FROM athletes_events where year = 2016)) AS difference\n",
    "    \"\"\"\n",
    ")\n",
    "print(tabulate(fetch_all(cursor), \"keys\", \"psql\"))"
   ]
  }
 ],
 "metadata": {
  "kernelspec": {
   "display_name": "Python 3",
   "language": "python",
   "name": "python3"
  },
  "language_info": {
   "codemirror_mode": {
    "name": "ipython",
    "version": 3
   },
   "file_extension": ".py",
   "mimetype": "text/x-python",
   "name": "python",
   "nbconvert_exporter": "python",
   "pygments_lexer": "ipython3",
   "version": "3.8.1"
  }
 },
 "nbformat": 4,
 "nbformat_minor": 2
}
